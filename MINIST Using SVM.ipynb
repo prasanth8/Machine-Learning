{
 "cells": [
  {
   "cell_type": "code",
   "execution_count": 33,
   "metadata": {},
   "outputs": [],
   "source": [
    "#Importing libraries\n",
    "import numpy as np\n",
    "import pandas as pd\n",
    "import matplotlib.pyplot as plt\n",
    "from sklearn.model_selection import train_test_split\n",
    "from sklearn import svm\n",
    "from sklearn.metrics import accuracy_score,confusion_matrix"
   ]
  },
  {
   "cell_type": "code",
   "execution_count": 2,
   "metadata": {},
   "outputs": [],
   "source": [
    "#Reading train and test data from local path\n",
    "train_data = pd.read_csv('G:\\Data_Science\\Datasets\\mnist_train.csv')\n",
    "test_data = pd.read_csv('G:\\Data_Science\\Datasets\\mnist_test.csv')"
   ]
  },
  {
   "cell_type": "code",
   "execution_count": 20,
   "metadata": {},
   "outputs": [],
   "source": [
    "#iterate through train data\n",
    "xtrain = []\n",
    "ytrain = []\n",
    "for index,row in train_data.iterrows():\n",
    "  xtrain.append(np.array(row[1:].tolist()))\n",
    "  ytrain.append(row[0])"
   ]
  },
  {
   "cell_type": "code",
   "execution_count": 4,
   "metadata": {},
   "outputs": [],
   "source": [
    "#iterate through test data\n",
    "xtest = []\n",
    "ytest = []\n",
    "for index,row in test_data.iterrows():\n",
    "  xtest.append(np.array(row[1:].tolist()))\n",
    "  ytest.append(row[0])"
   ]
  },
  {
   "cell_type": "code",
   "execution_count": 21,
   "metadata": {},
   "outputs": [
    {
     "name": "stdout",
     "output_type": "stream",
     "text": [
      "(60000, 784)\n"
     ]
    }
   ],
   "source": [
    "\n",
    "#Performing Normalization to train dataxtrain = np.array(xtrain)\n",
    "ytrain = np.array(ytrain)\n",
    "xtest = np.array(xtest)\n",
    "ytest = np.array(ytest)\n",
    "xtrain = xtrain.astype('float32')\n",
    "xtest = xtest.astype('float32')\n",
    "xtrain /=255\n",
    "xtest /=255\n",
    "#Split the test and train data with test size of 0.3\n",
    "xtrain.shape\n",
    "X_train,X_test,Y_train,Y_test = train_test_split(xtrain,ytrain,test_size = 0.3,random_state = 102)\n",
    "model = svm.SVC(kernel = 'linear')"
   ]
  },
  {
   "cell_type": "code",
   "execution_count": 22,
   "metadata": {},
   "outputs": [
    {
     "data": {
      "text/plain": [
       "SVC(C=1.0, break_ties=False, cache_size=200, class_weight=None, coef0=0.0,\n",
       "    decision_function_shape='ovr', degree=3, gamma='scale', kernel='linear',\n",
       "    max_iter=-1, probability=False, random_state=None, shrinking=True,\n",
       "    tol=0.001, verbose=False)"
      ]
     },
     "execution_count": 22,
     "metadata": {},
     "output_type": "execute_result"
    }
   ],
   "source": [
    "#Using Best value training model\n",
    "model.fit(X_train,Y_train)"
   ]
  },
  {
   "cell_type": "code",
   "execution_count": 24,
   "metadata": {},
   "outputs": [],
   "source": [
    "#Predicting by test data\n",
    "pred=model.predict(X_test)"
   ]
  },
  {
   "cell_type": "code",
   "execution_count": 32,
   "metadata": {},
   "outputs": [
    {
     "data": {
      "image/png": "[encoded data removed]",
      "text/plain": [
       "<Figure size 432x288 with 1 Axes>"
      ]
     },
     "metadata": {
      "needs_background": "light"
     },
     "output_type": "display_data"
    }
   ],
   "source": [
    "plt.imshow(X_test[2000].reshape(28,28))\n",
    "plt.title(pred[2000])\n",
    "plt.show()"
   ]
  },
  {
   "cell_type": "code",
   "execution_count": 34,
   "metadata": {},
   "outputs": [],
   "source": [
    "model_acc = model.score(X_test,Y_test)"
   ]
  },
  {
   "cell_type": "code",
   "execution_count": 42,
   "metadata": {},
   "outputs": [],
   "source": [
    "pred_acc = accuracy_score(Y_test,pred)"
   ]
  },
  {
   "cell_type": "code",
   "execution_count": 38,
   "metadata": {},
   "outputs": [],
   "source": [
    "conf_mat  = confusion_matrix(Y_test,pred)"
   ]
  },
  {
   "cell_type": "code",
   "execution_count": 41,
   "metadata": {},
   "outputs": [
    {
     "data": {
      "text/plain": [
       "array([[1735,    0,    8,    3,    4,   12,   11,    2,    6,    4],\n",
       "       [   0, 1998,   18,    5,    3,    2,    0,    6,   15,    1],\n",
       "       [  17,   15, 1615,   27,   23,    6,   22,   10,   16,    2],\n",
       "       [   7,   13,   38, 1727,    2,   69,    3,   11,   18,   10],\n",
       "       [   3,    7,   13,    2, 1641,    1,    9,   13,    8,   44],\n",
       "       [  19,   13,   12,   62,   11, 1413,   18,    4,   37,   15],\n",
       "       [  18,    3,   14,    0,   11,   13, 1649,    0,    4,    1],\n",
       "       [   6,    8,   20,   13,   21,    1,    0, 1805,    3,   49],\n",
       "       [   6,   29,   23,   54,    8,   45,   10,   10, 1547,   16],\n",
       "       [  10,   11,    5,   19,   46,    5,    0,   54,    8, 1626]],\n",
       "      dtype=int64)"
      ]
     },
     "execution_count": 41,
     "metadata": {},
     "output_type": "execute_result"
    }
   ],
   "source": [
    "conf_mat"
   ]
  },
  {
   "cell_type": "code",
   "execution_count": 43,
   "metadata": {},
   "outputs": [
    {
     "data": {
      "text/plain": [
       "0.9308888888888889"
      ]
     },
     "execution_count": 43,
     "metadata": {},
     "output_type": "execute_result"
    }
   ],
   "source": [
    "pred_acc"
   ]
  },
  {
   "cell_type": "code",
   "execution_count": 54,
   "metadata": {},
   "outputs": [
    {
     "data": {
      "image/png": "[encoded data removed]",
      "text/plain": [
       "<Figure size 432x288 with 1 Axes>"
      ]
     },
     "metadata": {
      "needs_background": "light"
     },
     "output_type": "display_data"
    }
   ],
   "source": [
    "plt.imshow(xtest[7000].reshape(28,28))\n",
    "plt.title(ytest[7000])\n",
    "plt.show()"
   ]
  },
  {
   "cell_type": "code",
   "execution_count": null,
   "metadata": {},
   "outputs": [],
   "source": []
  }
 ],
 "metadata": {
  "kernelspec": {
   "display_name": "Python 3",
   "language": "python",
   "name": "python3"
  },
  "language_info": {
   "codemirror_mode": {
    "name": "ipython",
    "version": 3
   },
   "file_extension": ".py",
   "mimetype": "text/x-python",
   "name": "python",
   "nbconvert_exporter": "python",
   "pygments_lexer": "ipython3",
   "version": "3.7.6"
  }
 },
 "nbformat": 4,
 "nbformat_minor": 4
}
