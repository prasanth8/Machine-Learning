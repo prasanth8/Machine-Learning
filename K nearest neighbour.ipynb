{
 "cells": [
  {
   "cell_type": "code",
   "execution_count": 49,
   "metadata": {},
   "outputs": [],
   "source": [
    "import numpy as np\n",
    "import pandas as pd\n",
    "import matplotlib.pyplot as plt\n",
    "from sklearn.model_selection import train_test_split\n",
    "from sklearn.neighbors import KNeighborsClassifier\n",
    "from sklearn.metrics import accuracy_score,confusion_matrix\n",
    "import time"
   ]
  },
  {
   "cell_type": "code",
   "execution_count": 2,
   "metadata": {},
   "outputs": [],
   "source": [
    "#Reading train and test data from local path\n",
    "train_data = pd.read_csv('G:\\Data_Science\\Datasets\\mnist_train.csv')\n",
    "test_data = pd.read_csv('G:\\Data_Science\\Datasets\\mnist_test.csv')"
   ]
  },
  {
   "cell_type": "code",
   "execution_count": 3,
   "metadata": {},
   "outputs": [],
   "source": [
    "#iterate through train data\n",
    "xtrain = []\n",
    "ytrain = []\n",
    "for index,rows in train_data.iterrows():\n",
    "    xtrain.append(np.array(rows[1:].tolist()))\n",
    "    ytrain.append(rows[0])"
   ]
  },
  {
   "cell_type": "code",
   "execution_count": 4,
   "metadata": {},
   "outputs": [],
   "source": [
    "#iterate through test data\n",
    "xtest = []\n",
    "ytest = []\n",
    "for index,rows in test_data.iterrows():\n",
    "    xtest.append(np.array(rows[1:].tolist()))\n",
    "    ytest.append(rows[0])"
   ]
  },
  {
   "cell_type": "code",
   "execution_count": 5,
   "metadata": {},
   "outputs": [],
   "source": [
    "#Performing Normalization to train data\n",
    "x_train = np.array(xtrain).astype('float32')\n",
    "y_train = np.array(ytrain)\n",
    "x_test = np.array(xtest).astype('float32')\n",
    "y_test = np.array(ytest)\n",
    "x_train /=255\n",
    "x_test/=255"
   ]
  },
  {
   "cell_type": "code",
   "execution_count": 9,
   "metadata": {},
   "outputs": [
    {
     "data": {
      "text/plain": [
       "(6000, 784)"
      ]
     },
     "execution_count": 9,
     "metadata": {},
     "output_type": "execute_result"
    }
   ],
   "source": [
    "#Split the test and train data with test size of 0.1\n",
    "X_train,X_test,Y_train,Y_test = train_test_split(x_train,y_train,test_size =0.1,random_state = 102)\n",
    "X_test.shape"
   ]
  },
  {
   "cell_type": "code",
   "execution_count": 11,
   "metadata": {},
   "outputs": [
    {
     "name": "stdout",
     "output_type": "stream",
     "text": [
      "1599173308.6749842\n",
      "1\n",
      "1599173347.6594064\n",
      "1599173795.8431556\n",
      "1599173795.8431556\n",
      "2\n",
      "1599173834.7686753\n",
      "1599174275.0605786\n",
      "1599174275.0762053\n",
      "3\n",
      "1599174312.9944324\n",
      "1599175051.9308476\n",
      "1599175051.9308476\n",
      "4\n",
      "1599175090.222841\n",
      "1599175541.3636034\n",
      "1599175541.3636034\n",
      "5\n",
      "1599175579.808096\n",
      "1599176030.8969166\n",
      "1599176030.8969166\n",
      "6\n",
      "1599176069.4776204\n",
      "1599176520.6432295\n",
      "1599176520.6432295\n",
      "7\n",
      "1599176558.9314308\n",
      "1599177010.640476\n",
      "1599177010.640476\n",
      "8\n",
      "1599177048.6626337\n",
      "1599177499.9105086\n",
      "1599177499.9105086\n",
      "9\n",
      "1599177537.8624284\n",
      "1599177989.8061776\n",
      "1599177989.8061776\n",
      "10\n",
      "1599178028.9326878\n",
      "1599178481.2444932\n"
     ]
    }
   ],
   "source": [
    "#finding K Value by accuracy_score\n",
    "score_list = {}\n",
    "for k in range(1,30):\n",
    "    model = KNeighborsClassifier(k)\n",
    "    model.fit(X_train,Y_train)\n",
    "    y_pred = model.predict(X_test)\n",
    "    score_list[k]=accuracy_score(y_pred,Y_test)\n",
    "    "
   ]
  },
  {
   "cell_type": "code",
   "execution_count": 51,
   "metadata": {},
   "outputs": [
    {
     "name": "stdout",
     "output_type": "stream",
     "text": [
      "{1: 0.9713333333333334, 2: 0.9643333333333334, 3: 0.9721666666666666, 4: 0.9693333333333334, 5: 0.97, 6: 0.9678333333333333, 7: 0.9686666666666667, 8: 0.967, 9: 0.9668333333333333, 10: 0.9656666666666667}\n"
     ]
    }
   ],
   "source": [
    "\n",
    "print(score_list)"
   ]
  },
  {
   "cell_type": "code",
   "execution_count": 18,
   "metadata": {},
   "outputs": [],
   "source": [
    "#getting best accuracy from score_list\n",
    "model_final = KNeighborsClassifier(max(score_list,key=score_list.get))"
   ]
  },
  {
   "cell_type": "code",
   "execution_count": 19,
   "metadata": {},
   "outputs": [
    {
     "data": {
      "text/plain": [
       "KNeighborsClassifier(algorithm='auto', leaf_size=30, metric='minkowski',\n",
       "                     metric_params=None, n_jobs=None, n_neighbors=3, p=2,\n",
       "                     weights='uniform')"
      ]
     },
     "execution_count": 19,
     "metadata": {},
     "output_type": "execute_result"
    }
   ],
   "source": [
    "#Using Best K value training model\n",
    "model_final.fit(X_train,Y_train)"
   ]
  },
  {
   "cell_type": "code",
   "execution_count": 21,
   "metadata": {},
   "outputs": [],
   "source": [
    "#Predicting by test data\n",
    "pred=model_final.predict(xtest)"
   ]
  },
  {
   "cell_type": "code",
   "execution_count": 54,
   "metadata": {},
   "outputs": [
    {
     "data": {
      "text/plain": [
       "3"
      ]
     },
     "execution_count": 54,
     "metadata": {},
     "output_type": "execute_result"
    }
   ],
   "source": []
  },
  {
   "cell_type": "code",
   "execution_count": 55,
   "metadata": {},
   "outputs": [],
   "source": [
    "arr = []\n",
    "arr.append(xtest[6666])"
   ]
  },
  {
   "cell_type": "code",
   "execution_count": null,
   "metadata": {},
   "outputs": [],
   "source": []
  },
  {
   "cell_type": "code",
   "execution_count": 56,
   "metadata": {},
   "outputs": [],
   "source": [
    "p=model_final.predict(arr)"
   ]
  },
  {
   "cell_type": "code",
   "execution_count": 57,
   "metadata": {},
   "outputs": [
    {
     "name": "stderr",
     "output_type": "stream",
     "text": [
      "C:\\Users\\Prasanth\\anaconda3\\lib\\site-packages\\matplotlib\\text.py:1150: FutureWarning: elementwise comparison failed; returning scalar instead, but in the future will perform elementwise comparison\n",
      "  if s != self._text:\n"
     ]
    },
    {
     "data": {
      "image/png": "[encoded data removed]",
      "text/plain": [
       "<Figure size 432x288 with 1 Axes>"
      ]
     },
     "metadata": {
      "needs_background": "light"
     },
     "output_type": "display_data"
    }
   ],
   "source": [
    "plt.imshow(xtest[6666].reshape(28,28))\n",
    "plt.title(p)\n",
    "plt.show()"
   ]
  },
  {
   "cell_type": "code",
   "execution_count": 40,
   "metadata": {},
   "outputs": [
    {
     "name": "stdout",
     "output_type": "stream",
     "text": [
      "Sakthij\n"
     ]
    }
   ],
   "source": []
  },
  {
   "cell_type": "code",
   "execution_count": null,
   "metadata": {},
   "outputs": [],
   "source": []
  }
 ],
 "metadata": {
  "kernelspec": {
   "display_name": "Python 3",
   "language": "python",
   "name": "python3"
  },
  "language_info": {
   "codemirror_mode": {
    "name": "ipython",
    "version": 3
   },
   "file_extension": ".py",
   "mimetype": "text/x-python",
   "name": "python",
   "nbconvert_exporter": "python",
   "pygments_lexer": "ipython3",
   "version": "3.7.6"
  }
 },
 "nbformat": 4,
 "nbformat_minor": 4
}
